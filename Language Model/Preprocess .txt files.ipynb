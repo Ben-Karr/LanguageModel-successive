{
 "cells": [
  {
   "cell_type": "code",
   "execution_count": 43,
   "metadata": {},
   "outputs": [],
   "source": [
    "from pathlib import Path\n",
    "import os\n",
    "import re"
   ]
  },
  {
   "cell_type": "code",
   "execution_count": 2,
   "metadata": {},
   "outputs": [],
   "source": [
    "path = Path('data/Kinderbücher')"
   ]
  },
  {
   "cell_type": "code",
   "execution_count": 28,
   "metadata": {},
   "outputs": [
    {
     "data": {
      "text/plain": [
       "[PosixPath('data/Kinderbücher/fnr'),\n",
       " PosixPath('data/Kinderbücher/einfachvorlesen'),\n",
       " PosixPath('data/Kinderbücher/umweltbundesamt'),\n",
       " PosixPath('data/Kinderbücher/bundesregierung'),\n",
       " PosixPath('data/Kinderbücher/aktionmensch'),\n",
       " PosixPath('data/Kinderbücher/bundesbank')]"
      ]
     },
     "execution_count": 28,
     "metadata": {},
     "output_type": "execute_result"
    }
   ],
   "source": [
    "dirs = os.listdir(path)\n",
    "dirpaths = [path / x for x in dirs]\n",
    "dirpaths"
   ]
  },
  {
   "cell_type": "code",
   "execution_count": 29,
   "metadata": {},
   "outputs": [],
   "source": [
    "d = dirpaths[1]\n",
    "files = [file for file in os.listdir(d) if file[-4:] == '.txt']\n",
    "filepaths = [d / file for file in files]"
   ]
  },
  {
   "cell_type": "code",
   "execution_count": 30,
   "metadata": {},
   "outputs": [
    {
     "data": {
      "text/plain": [
       "[PosixPath('data/Kinderbücher/einfachvorlesen/7yo_Der_Wunderstrmer._Hilfe_ich_habe_einen_Fuballstar_gekauft_-_Teil_4.txt'),\n",
       " PosixPath('data/Kinderbücher/einfachvorlesen/7yo_Der_Wunderstrmer._Hilfe_ich_habe_einen_Fuballstar_gekauft_-_Teil_3.txt'),\n",
       " PosixPath('data/Kinderbücher/einfachvorlesen/3yo_Einkaufsbummel.txt'),\n",
       " PosixPath('data/Kinderbücher/einfachvorlesen/3yo_Mo_lernt_Schwimmen.txt'),\n",
       " PosixPath('data/Kinderbücher/einfachvorlesen/5yo_Rubinia_Wunderherz._Die_mutige_Waldelfe._Der_magische_Funkelstein_-_Teil_2.txt'),\n",
       " PosixPath('data/Kinderbücher/einfachvorlesen/5yo_Rubinia_Wunderherz._Die_mutige_Waldelfe._Der_magische_Funkelstein_-_Teil_1.txt'),\n",
       " PosixPath('data/Kinderbücher/einfachvorlesen/7yo_Finn_und_Frieda_feiern_den_Sommer.txt'),\n",
       " PosixPath('data/Kinderbücher/einfachvorlesen/3yo_Tafiti-So_mach_ich_dich_gesund.txt'),\n",
       " PosixPath('data/Kinderbücher/einfachvorlesen/5yo_Doktor_Miez_Das_verschwundene_Sumselschaf.txt'),\n",
       " PosixPath('data/Kinderbücher/einfachvorlesen/5yo_Frida_und_der_NeinJa-Ritter_-_Teil_3.txt'),\n",
       " PosixPath('data/Kinderbücher/einfachvorlesen/7yo_Die_Glckskleebande_-_Kleiner_Hund_in_Not_-_Teil_1.txt')]"
      ]
     },
     "execution_count": 30,
     "metadata": {},
     "output_type": "execute_result"
    }
   ],
   "source": [
    "filepaths"
   ]
  },
  {
   "cell_type": "code",
   "execution_count": 210,
   "metadata": {},
   "outputs": [],
   "source": [
    "filepath = filepaths[0]\n",
    "# load the current file\n",
    "with open(filepath, 'r') as read:\n",
    "    txt = read.read().replace('\\n',' ') # remove newline, as we split from punctuation\n",
    "\n",
    "\n",
    "txtA = re.sub('Ein Service von Stiftung Lesen und Deutsche Bahn Stiftung', ' ', txt) # remove header\n",
    "txtA = re.sub('\\d{1,2}/\\d{2}', '', txtA) # remove pages\n",
    "txtA = re.sub(r'\\s+', ' ', txtA) # shrink whitespace to one space\n",
    "\n",
    "# split by given stops, the regex splits before and after the delimiter, \n",
    "txtB = re.split(\"([.!?])\", txtA)\n",
    "\n",
    "# join the delimiter back to the sentence, that is infront of it\n",
    "txtC = []\n",
    "for i in range(len(x)):\n",
    "    if txtB[i] in ['.','!','?']:\n",
    "           txtC.append(txtB[i-1] + txtB[i])\n",
    "\n",
    "# remove whitespace from the beginning of a sentence            \n",
    "sents = [re.sub(r'^\\s', '', sent) for sent in txtC]"
   ]
  },
  {
   "cell_type": "code",
   "execution_count": null,
   "metadata": {},
   "outputs": [],
   "source": []
  }
 ],
 "metadata": {
  "kernelspec": {
   "display_name": "Python 3",
   "language": "python",
   "name": "python3"
  },
  "language_info": {
   "codemirror_mode": {
    "name": "ipython",
    "version": 3
   },
   "file_extension": ".py",
   "mimetype": "text/x-python",
   "name": "python",
   "nbconvert_exporter": "python",
   "pygments_lexer": "ipython3",
   "version": "3.8.3"
  }
 },
 "nbformat": 4,
 "nbformat_minor": 4
}
